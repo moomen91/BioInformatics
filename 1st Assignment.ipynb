{
 "cells": [
  {
   "cell_type": "code",
   "execution_count": 1,
   "metadata": {},
   "outputs": [],
   "source": [
    "#importing some libraries\n",
    "\n",
    "import numpy as np\n",
    "import urllib.request\n"
   ]
  },
  {
   "cell_type": "code",
   "execution_count": 123,
   "metadata": {},
   "outputs": [
    {
     "name": "stdout",
     "output_type": "stream",
     "text": [
      "Enter the first sequence: MDPGQQPPPQPAPQGQGQPPSQPPQGQGPPSGPGQPAPAATQAAPQAPPAGHQIVHVRGD SETDLEALFNAVMNPKTANVPQTVPMRLRKLPDSFFKPPEPKSHSRQASTDAGTAGALTP QHVRAHSSPASLQLGAVSPGTLTPTGVVSGPAATPTAQHLRQSSFEIPDDVPLPAGWEMA KTSSGQRYFLNHIDQTTTWQDPRKAMLSQMNVTAPTSPPVQQNMMNSASGPLPDGWEQAM TQDGEIYYINHKNKTTSWLDPRLDPRFAMNQRISQSAPVKQPPPLAPQSPQGGVMGGSNS NQQQQMRLQQLQMEKERLRLKQQELLRQAMRNINPSTANSPKCQELALRSQLPTLEQDGG TQNPVSSPGMSQELRTMTTNSSDPFLNSGTYHSRDESTDSGLSMSSYSVPRTPDDFLNSV DEMDTGDTINQSTLPSQQNRFPDYLEAIPGTNVDLGTLEGDGMNIEGEELMPSLQEALSS DILNDMESVLAATKLDKESFLTWL\n",
      "Enter the second sequence: MRPGTGAERGGLMVSEMESHPPSQGPGDGERRLSGSSLCSGSWVSADGFLRRRPSMGHPG MHYAPMGMHPMGQRANMPPVPHGMMPQMMPPMGGPPMGQMPGMMSSVMPGMMMSHMSQAS MQPALPPGVNSMDVAAGTASGAKSMWTEHKSPDGRTYYYNTETKQSTWEKPDDLKTPAEQ LLSKCPWKEYKSDSGKPYYYNSQTKESRWAKPKELEDLEGYQNTIVAGSLITKSNLHAMI KAEESSKQEECTTTSTAPVPTTEIPTTMSTMAAAEAAAAVVAAAAAAAAAAAAANANAST SASNTVSGTVPVVPEPEVTSIVATVVDNENTVTISTEEQAQLTSTPAIQDQSVEVSSNTG EETSKQETVADFTPKKEEEESQPAKKTYTWNTKEEAKQAFKELLKEKRVPSNASWEQAMK MIINDPRYSALAKLSEKKQAFNAYKVQTEKEEKEEARSKYKEAKESFQRFLENHEKMTST TRYKKAEQMFGEMEVWNAISERDRLEIYEDVLFFLSKKEKEQAKQLRKRNWEALKNILDN MANVTYSTTWSEAQQYLMDNPTFAEDEELQNMDKEDALICFEEHIRALEKEEEEEKQKSL LRERRRQRKNRESFQIFLDELHEHGQLHSMSSWMELYPTISSDIRFTNMLGQPGSTALDL FKFYVEDLKARYHDEKKIIKDILKDKGFVVEVNTTFEDFVAIISSTKRSTTLDAGNIKLA FNSLLEKAEAREREREKEEARKMKRKESAFKSMLKQAAPPIELDAVWEDIRERFVKEPAF EDITLESERKRIFKDFMHVLEHECQHHHSKNKKHSKKSKKHHRKRSRSRSGSDSDDDDSH SKKKRQRSESRSASEHSSSAESERSYKKSKKHKKKSKKRRHKSDSPESDAEREKDKKEKD RESEKDRTRQRSESKHKSPKKKTGKDSGNWDTSGSELSEGELEKRRRTLLEQLDDDQ\n",
      "['M', 'D', 'P', 'G', 'Q', 'Q', 'P', 'P', 'P', 'Q', 'P', 'A', 'P', 'Q', 'G', 'Q', 'G', 'Q', 'P', 'P', 'S', 'Q', 'P', 'P', 'Q', 'G', 'Q', 'G', 'P', 'P', 'S', 'G', 'P', 'G', 'Q', 'P', 'A', 'P', 'A', 'A', 'T', 'Q', 'A', 'A', 'P', 'Q', 'A', 'P', 'P', 'A', 'G', 'H', 'Q', 'I', 'V', 'H', 'V', 'R', 'G', 'D', 'S', 'E', 'T', 'D', 'L', 'E', 'A', 'L', 'F', 'N', 'A', 'V', 'M', 'N', 'P', 'K', 'T', 'A', 'N', 'V', 'P', 'Q', 'T', 'V', 'P', 'M', 'R', 'L', 'R', 'K', 'L', 'P', 'D', 'S', 'F', 'F', 'K', 'P', 'P', 'E', 'P', 'K', 'S', 'H', 'S', 'R', 'Q', 'A', 'S', 'T', 'D', 'A', 'G', 'T', 'A', 'G', 'A', 'L', 'T', 'P', 'Q', 'H', 'V', 'R', 'A', 'H', 'S', 'S', 'P', 'A', 'S', 'L', 'Q', 'L', 'G', 'A', 'V', 'S', 'P', 'G', 'T', 'L', 'T', 'P', 'T', 'G', 'V', 'V', 'S', 'G', 'P', 'A', 'A', 'T', 'P', 'T', 'A', 'Q', 'H', 'L', 'R', 'Q', 'S', 'S', 'F', 'E', 'I', 'P', 'D', 'D', 'V', 'P', 'L', 'P', 'A', 'G', 'W', 'E', 'M', 'A', 'K', 'T', 'S', 'S', 'G', 'Q', 'R', 'Y', 'F', 'L', 'N', 'H', 'I', 'D', 'Q', 'T', 'T', 'T', 'W', 'Q', 'D', 'P', 'R', 'K', 'A', 'M', 'L', 'S', 'Q', 'M', 'N', 'V', 'T', 'A', 'P', 'T', 'S', 'P', 'P', 'V', 'Q', 'Q', 'N', 'M', 'M', 'N', 'S', 'A', 'S', 'G', 'P', 'L', 'P', 'D', 'G', 'W', 'E', 'Q', 'A', 'M', 'T', 'Q', 'D', 'G', 'E', 'I', 'Y', 'Y', 'I', 'N', 'H', 'K', 'N', 'K', 'T', 'T', 'S', 'W', 'L', 'D', 'P', 'R', 'L', 'D', 'P', 'R', 'F', 'A', 'M', 'N', 'Q', 'R', 'I', 'S', 'Q', 'S', 'A', 'P', 'V', 'K', 'Q', 'P', 'P', 'P', 'L', 'A', 'P', 'Q', 'S', 'P', 'Q', 'G', 'G', 'V', 'M', 'G', 'G', 'S', 'N', 'S', 'N', 'Q', 'Q', 'Q', 'Q', 'M', 'R', 'L', 'Q', 'Q', 'L', 'Q', 'M', 'E', 'K', 'E', 'R', 'L', 'R', 'L', 'K', 'Q', 'Q', 'E', 'L', 'L', 'R', 'Q', 'A', 'M', 'R', 'N', 'I', 'N', 'P', 'S', 'T', 'A', 'N', 'S', 'P', 'K', 'C', 'Q', 'E', 'L', 'A', 'L', 'R', 'S', 'Q', 'L', 'P', 'T', 'L', 'E', 'Q', 'D', 'G', 'G', 'T', 'Q', 'N', 'P', 'V', 'S', 'S', 'P', 'G', 'M', 'S', 'Q', 'E', 'L', 'R', 'T', 'M', 'T', 'T', 'N', 'S', 'S', 'D', 'P', 'F', 'L', 'N', 'S', 'G', 'T', 'Y', 'H', 'S', 'R', 'D', 'E', 'S', 'T', 'D', 'S', 'G', 'L', 'S', 'M', 'S', 'S', 'Y', 'S', 'V', 'P', 'R', 'T', 'P', 'D', 'D', 'F', 'L', 'N', 'S', 'V', 'D', 'E', 'M', 'D', 'T', 'G', 'D', 'T', 'I', 'N', 'Q', 'S', 'T', 'L', 'P', 'S', 'Q', 'Q', 'N', 'R', 'F', 'P', 'D', 'Y', 'L', 'E', 'A', 'I', 'P', 'G', 'T', 'N', 'V', 'D', 'L', 'G', 'T', 'L', 'E', 'G', 'D', 'G', 'M', 'N', 'I', 'E', 'G', 'E', 'E', 'L', 'M', 'P', 'S', 'L', 'Q', 'E', 'A', 'L', 'S', 'S', 'D', 'I', 'L', 'N', 'D', 'M', 'E', 'S', 'V', 'L', 'A', 'A', 'T', 'K', 'L', 'D', 'K', 'E', 'S', 'F', 'L', 'T', 'W', 'L']\n",
      "['M', 'R', 'P', 'G', 'T', 'G', 'A', 'E', 'R', 'G', 'G', 'L', 'M', 'V', 'S', 'E', 'M', 'E', 'S', 'H', 'P', 'P', 'S', 'Q', 'G', 'P', 'G', 'D', 'G', 'E', 'R', 'R', 'L', 'S', 'G', 'S', 'S', 'L', 'C', 'S', 'G', 'S', 'W', 'V', 'S', 'A', 'D', 'G', 'F', 'L', 'R', 'R', 'R', 'P', 'S', 'M', 'G', 'H', 'P', 'G', 'M', 'H', 'Y', 'A', 'P', 'M', 'G', 'M', 'H', 'P', 'M', 'G', 'Q', 'R', 'A', 'N', 'M', 'P', 'P', 'V', 'P', 'H', 'G', 'M', 'M', 'P', 'Q', 'M', 'M', 'P', 'P', 'M', 'G', 'G', 'P', 'P', 'M', 'G', 'Q', 'M', 'P', 'G', 'M', 'M', 'S', 'S', 'V', 'M', 'P', 'G', 'M', 'M', 'M', 'S', 'H', 'M', 'S', 'Q', 'A', 'S', 'M', 'Q', 'P', 'A', 'L', 'P', 'P', 'G', 'V', 'N', 'S', 'M', 'D', 'V', 'A', 'A', 'G', 'T', 'A', 'S', 'G', 'A', 'K', 'S', 'M', 'W', 'T', 'E', 'H', 'K', 'S', 'P', 'D', 'G', 'R', 'T', 'Y', 'Y', 'Y', 'N', 'T', 'E', 'T', 'K', 'Q', 'S', 'T', 'W', 'E', 'K', 'P', 'D', 'D', 'L', 'K', 'T', 'P', 'A', 'E', 'Q', 'L', 'L', 'S', 'K', 'C', 'P', 'W', 'K', 'E', 'Y', 'K', 'S', 'D', 'S', 'G', 'K', 'P', 'Y', 'Y', 'Y', 'N', 'S', 'Q', 'T', 'K', 'E', 'S', 'R', 'W', 'A', 'K', 'P', 'K', 'E', 'L', 'E', 'D', 'L', 'E', 'G', 'Y', 'Q', 'N', 'T', 'I', 'V', 'A', 'G', 'S', 'L', 'I', 'T', 'K', 'S', 'N', 'L', 'H', 'A', 'M', 'I', 'K', 'A', 'E', 'E', 'S', 'S', 'K', 'Q', 'E', 'E', 'C', 'T', 'T', 'T', 'S', 'T', 'A', 'P', 'V', 'P', 'T', 'T', 'E', 'I', 'P', 'T', 'T', 'M', 'S', 'T', 'M', 'A', 'A', 'A', 'E', 'A', 'A', 'A', 'A', 'V', 'V', 'A', 'A', 'A', 'A', 'A', 'A', 'A', 'A', 'A', 'A', 'A', 'A', 'A', 'N', 'A', 'N', 'A', 'S', 'T', 'S', 'A', 'S', 'N', 'T', 'V', 'S', 'G', 'T', 'V', 'P', 'V', 'V', 'P', 'E', 'P', 'E', 'V', 'T', 'S', 'I', 'V', 'A', 'T', 'V', 'V', 'D', 'N', 'E', 'N', 'T', 'V', 'T', 'I', 'S', 'T', 'E', 'E', 'Q', 'A', 'Q', 'L', 'T', 'S', 'T', 'P', 'A', 'I', 'Q', 'D', 'Q', 'S', 'V', 'E', 'V', 'S', 'S', 'N', 'T', 'G', 'E', 'E', 'T', 'S', 'K', 'Q', 'E', 'T', 'V', 'A', 'D', 'F', 'T', 'P', 'K', 'K', 'E', 'E', 'E', 'E', 'S', 'Q', 'P', 'A', 'K', 'K', 'T', 'Y', 'T', 'W', 'N', 'T', 'K', 'E', 'E', 'A', 'K', 'Q', 'A', 'F', 'K', 'E', 'L', 'L', 'K', 'E', 'K', 'R', 'V', 'P', 'S', 'N', 'A', 'S', 'W', 'E', 'Q', 'A', 'M', 'K', 'M', 'I', 'I', 'N', 'D', 'P', 'R', 'Y', 'S', 'A', 'L', 'A', 'K', 'L', 'S', 'E', 'K', 'K', 'Q', 'A', 'F', 'N', 'A', 'Y', 'K', 'V', 'Q', 'T', 'E', 'K', 'E', 'E', 'K', 'E', 'E', 'A', 'R', 'S', 'K', 'Y', 'K', 'E', 'A', 'K', 'E', 'S', 'F', 'Q', 'R', 'F', 'L', 'E', 'N', 'H', 'E', 'K', 'M', 'T', 'S', 'T', 'T', 'R', 'Y', 'K', 'K', 'A', 'E', 'Q', 'M', 'F', 'G', 'E', 'M', 'E', 'V', 'W', 'N', 'A', 'I', 'S', 'E', 'R', 'D', 'R', 'L', 'E', 'I', 'Y', 'E', 'D', 'V', 'L', 'F', 'F', 'L', 'S', 'K', 'K', 'E', 'K', 'E', 'Q', 'A', 'K', 'Q', 'L', 'R', 'K', 'R', 'N', 'W', 'E', 'A', 'L', 'K', 'N', 'I', 'L', 'D', 'N', 'M', 'A', 'N', 'V', 'T', 'Y', 'S', 'T', 'T', 'W', 'S', 'E', 'A', 'Q', 'Q', 'Y', 'L', 'M', 'D', 'N', 'P', 'T', 'F', 'A', 'E', 'D', 'E', 'E', 'L', 'Q', 'N', 'M', 'D', 'K', 'E', 'D', 'A', 'L', 'I', 'C', 'F', 'E', 'E', 'H', 'I', 'R', 'A', 'L', 'E', 'K', 'E', 'E', 'E', 'E', 'E', 'K', 'Q', 'K', 'S', 'L', 'L', 'R', 'E', 'R', 'R', 'R', 'Q', 'R', 'K', 'N', 'R', 'E', 'S', 'F', 'Q', 'I', 'F', 'L', 'D', 'E', 'L', 'H', 'E', 'H', 'G', 'Q', 'L', 'H', 'S', 'M', 'S', 'S', 'W', 'M', 'E', 'L', 'Y', 'P', 'T', 'I', 'S', 'S', 'D', 'I', 'R', 'F', 'T', 'N', 'M', 'L', 'G', 'Q', 'P', 'G', 'S', 'T', 'A', 'L', 'D', 'L', 'F', 'K', 'F', 'Y', 'V', 'E', 'D', 'L', 'K', 'A', 'R', 'Y', 'H', 'D', 'E', 'K', 'K', 'I', 'I', 'K', 'D', 'I', 'L', 'K', 'D', 'K', 'G', 'F', 'V', 'V', 'E', 'V', 'N', 'T', 'T', 'F', 'E', 'D', 'F', 'V', 'A', 'I', 'I', 'S', 'S', 'T', 'K', 'R', 'S', 'T', 'T', 'L', 'D', 'A', 'G', 'N', 'I', 'K', 'L', 'A', 'F', 'N', 'S', 'L', 'L', 'E', 'K', 'A', 'E', 'A', 'R', 'E', 'R', 'E', 'R', 'E', 'K', 'E', 'E', 'A', 'R', 'K', 'M', 'K', 'R', 'K', 'E', 'S', 'A', 'F', 'K', 'S', 'M', 'L', 'K', 'Q', 'A', 'A', 'P', 'P', 'I', 'E', 'L', 'D', 'A', 'V', 'W', 'E', 'D', 'I', 'R', 'E', 'R', 'F', 'V', 'K', 'E', 'P', 'A', 'F', 'E', 'D', 'I', 'T', 'L', 'E', 'S', 'E', 'R', 'K', 'R', 'I', 'F', 'K', 'D', 'F', 'M', 'H', 'V', 'L', 'E', 'H', 'E', 'C', 'Q', 'H', 'H', 'H', 'S', 'K', 'N', 'K', 'K', 'H', 'S', 'K', 'K', 'S', 'K', 'K', 'H', 'H', 'R', 'K', 'R', 'S', 'R', 'S', 'R', 'S', 'G', 'S', 'D', 'S', 'D', 'D', 'D', 'D', 'S', 'H', 'S', 'K', 'K', 'K', 'R', 'Q', 'R', 'S', 'E', 'S', 'R', 'S', 'A', 'S', 'E', 'H', 'S', 'S', 'S', 'A', 'E', 'S', 'E', 'R', 'S', 'Y', 'K', 'K', 'S', 'K', 'K', 'H', 'K', 'K', 'K', 'S', 'K', 'K', 'R', 'R', 'H', 'K', 'S', 'D', 'S', 'P', 'E', 'S', 'D', 'A', 'E', 'R', 'E', 'K', 'D', 'K', 'K', 'E', 'K', 'D', 'R', 'E', 'S', 'E', 'K', 'D', 'R', 'T', 'R', 'Q', 'R', 'S', 'E', 'S', 'K', 'H', 'K', 'S', 'P', 'K', 'K', 'K', 'T', 'G', 'K', 'D', 'S', 'G', 'N', 'W', 'D', 'T', 'S', 'G', 'S', 'E', 'L', 'S', 'E', 'G', 'E', 'L', 'E', 'K', 'R', 'R', 'R', 'T', 'L', 'L', 'E', 'Q', 'L', 'D', 'D', 'D', 'Q']\n",
      "0.0\n"
     ]
    }
   ],
   "source": [
    "# initialization of the similarity matrix\n",
    "A = input(\"Enter the first sequence: \")\n",
    "B = input(\"Enter the second sequence: \")\n",
    "\n",
    "\n",
    "A = [i for i in A ]\n",
    "B = [i for i in B ]\n",
    "\n",
    "A = [i for i in A if i != ' ']\n",
    "B = [i for i in B if i != ' ']\n",
    "\n",
    "\n",
    "#to print the similarity matrix\n",
    "\n",
    "G = np.zeros((len(A),len(B)))                                   \n",
    "\n",
    "print(A)\n",
    "print(B)\n",
    "print(G[3][4])"
   ]
  },
  {
   "cell_type": "code",
   "execution_count": 117,
   "metadata": {
    "slideshow": {
     "slide_type": "slide"
    }
   },
   "outputs": [
    {
     "name": "stdout",
     "output_type": "stream",
     "text": [
      "-2\n"
     ]
    }
   ],
   "source": [
    "# constructing subsitution matrix\n",
    "# I'm using the links below to fetch the matrix after uploading the matrices to the git repository\n",
    "blosum62_url = 'https://raw.githubusercontent.com/moomen91/BioInformatics/master/blosum62.txt'\n",
    "blosum80_url = 'https://raw.githubusercontent.com/moomen91/BioInformatics/master/blosum80.txt'\n",
    "pam60_url = 'https://raw.githubusercontent.com/moomen91/BioInformatics/master/pam60.txt'\n",
    "pam120_url = 'https://raw.githubusercontent.com/moomen91/BioInformatics/master/pam120.txt'\n",
    "\n",
    "\n",
    "def get_substitution_matrix(url):\n",
    "    \n",
    "\n",
    "    f = urllib.request.urlopen(url) \n",
    "\n",
    "    file = f.readlines()\n",
    "\n",
    "    substitution_matrix = list()\n",
    "    \n",
    "    for line in file:\n",
    "        line = line.split()\n",
    "        line = [i.decode('utf-8') for i in line]\n",
    "        if('#' not in line):\n",
    "            \n",
    "            substitution_matrix.append(line)\n",
    "\n",
    "    #making multidimentional dictionary to map all the characters\n",
    "\n",
    "    matrix_dict = {}\n",
    "\n",
    "    for i in range(len(substitution_matrix)-1):\n",
    "    \n",
    "        matrix_dict[substitution_matrix[i][0]] = {}\n",
    "    \n",
    "        for j in range(len(substitution_matrix[0])-1):\n",
    "        \n",
    "            matrix_dict[substitution_matrix[i][0]][substitution_matrix[0][j]] = substitution_matrix[i][j + 1]\n",
    "            \n",
    "    return matrix_dict\n",
    "\n",
    "#creating all the matrices by calling the fuction of get_substitution_matrix\n",
    "\n",
    "blosum62 = get_substitution_matrix(blosum62_url)\n",
    "blosum80 = get_substitution_matrix(blosum80_url)\n",
    "pam60 = get_substitution_matrix(pam60_url)\n",
    "pam120 = get_substitution_matrix(pam120_url)\n",
    "\n",
    "print(blosum62['A']['N'])"
   ]
  },
  {
   "cell_type": "code",
   "execution_count": 118,
   "metadata": {},
   "outputs": [
    {
     "name": "stdout",
     "output_type": "stream",
     "text": [
      "[[-2. -2.  4. ... -1.  0.  0.]\n",
      " [-4. -6. -2. ... -2. -3.  0.]\n",
      " [-1. -5. -5. ... -2. -3.  0.]\n",
      " ...\n",
      " [-3. -5. -6. ... 96. 84.  0.]\n",
      " [-4. -7. -5. ... 84. 95.  0.]\n",
      " [ 0.  0.  0. ...  0.  0.  0.]]\n"
     ]
    }
   ],
   "source": [
    "#filling in the matrix\n",
    "# the pseudo code for the following implementation can be found on the following link\n",
    "# https://en.wikipedia.org/wiki/Needleman%E2%80%93Wunsch_algorithm#Scoring_systems\n",
    "\n",
    "def createScoringMatrix(seq_A, seq_B, F, S, penalty_gap):\n",
    "    \n",
    "    for i in range(len(seq_A)-1):\n",
    "        \n",
    "        F[i][0] = penalty_gap*i\n",
    "        \n",
    "    for j in range(len(seq_B)-1):\n",
    "        \n",
    "        F[0][j] = penalty_gap*j\n",
    "        \n",
    "    for i in range(len(seq_A)-1):\n",
    "        \n",
    "        for j in range(len(seq_B)-1):\n",
    "            \n",
    "            match = F[i-1][j-1] + int(S[seq_A[i]][seq_B[j]])\n",
    "            delete = F[i-1][j] + penalty_gap\n",
    "            insert = F[i][j-1] + penalty_gap\n",
    "            \n",
    "            F[i][j] = max(match, delete, insert)\n",
    "    \n",
    "            \n",
    "    return F\n",
    "\n",
    "X = createScoringMatrix(seq_A = A, seq_B = B, F = G, S = blosum62, penalty_gap = -12)\n",
    "print(np.matrix(X))"
   ]
  },
  {
   "cell_type": "code",
   "execution_count": 120,
   "metadata": {},
   "outputs": [
    {
     "name": "stdout",
     "output_type": "stream",
     "text": [
      "SGAKSMWTEHKSPDGRTYYYNTETKQSTWEKPD-\n",
      "\n",
      "LLSKCPWKEYKSDSGKPYYYNSQTKESRWAKPKE\n"
     ]
    }
   ],
   "source": [
    "# to compute the global allignment using the algorithm of NeedlemanWunsch \n",
    "\n",
    "def compute_global_alignment(seq_A, seq_B, F, S, penalty_gap):\n",
    "    \n",
    "    alignment_A = \"\"\n",
    "    alignment_B = \"\"\n",
    "    i = len(A) - 1\n",
    "    j = len(B) - 1\n",
    "\n",
    "    while(i >= 0 or j >= 0):\n",
    "    \n",
    "        if(i >= 0 and j >= 0 and (F[i][j] == F[i - 1][j - 1] + int(S[A[i]][B[j]]))):\n",
    "        \n",
    "            alignment_A += seq_A[i]\n",
    "            alignment_B += seq_B[j]\n",
    "            i -= 1\n",
    "            j -= 1\n",
    "        elif( i >= 0 and j >= 0 and F[i][j] == F[i-1][j] + (penalty_gap)):\n",
    "            alignment_A += seq_A[i]\n",
    "            alignment_B += \"-\"\n",
    "            \n",
    "            i -= 1\n",
    "            \n",
    "        else:\n",
    "        \n",
    "            alignment_A += \"-\"\n",
    "            alignment_B += seq_B[j]\n",
    "            \n",
    "            i -= 1\n",
    "            j -= 1\n",
    "            \n",
    "    print(alignment_A[::-1])\n",
    "    print()\n",
    "    print(alignment_B[::-1])\n",
    "    \n",
    "    \n",
    "    \n",
    "\n",
    "compute_global_alignment(seq_A = A, seq_B = B, F = X, S = blosum62, penalty_gap = -12)\n",
    "    "
   ]
  },
  {
   "cell_type": "code",
   "execution_count": 124,
   "metadata": {},
   "outputs": [],
   "source": [
    "# to create the matrix to compute the local alignment \n",
    "def create_matrix_for_local(seq_A, seq_B, F, S, penalty_gap):\n",
    "    \n",
    "    best_score = 0\n",
    "    optimal_location = (0,0)\n",
    "    \n",
    "    for i in range(len(seq_A)-1):\n",
    "        \n",
    "        for j in range(len(seq_B)-1):\n",
    "            \n",
    "            match = F[i-1][j-1] + int(S[seq_A[i]][seq_B[j]])\n",
    "            delete = F[i-1][j] + penalty_gap\n",
    "            insert = F[i][j-1] + penalty_gap\n",
    "            \n",
    "            F[i][j] = max(match, delete, insert)\n",
    "            \n",
    "            if (F[i][j] >= best_score):\n",
    "                best_score = F[i][j]\n",
    "                optimal_location = (i,j)\n",
    "    return F, best_score, optimal_location\n",
    "\n",
    "\n",
    "    "
   ]
  },
  {
   "cell_type": "code",
   "execution_count": 125,
   "metadata": {},
   "outputs": [
    {
     "name": "stdout",
     "output_type": "stream",
     "text": [
      "[[   5.   -1.   -2. ...   -3.   -3.    0.]\n",
      " [  -3.    3.   -2. ...    3.    3.    0.]\n",
      " [  -2.   -5.   10. ...    7.    2.    0.]\n",
      " ...\n",
      " [  -1.    1.   -3. ... -262. -266.    0.]\n",
      " [  -1.   -4.   -3. ... -257. -266.    0.]\n",
      " [   0.    0.    0. ...    0.    0.    0.]]\n",
      "(31, 97)\n",
      "(504, 957)\n",
      "51.0\n",
      "MDP-GQQPPPQPAPQGQGQPPSQPPQGQGPPSG\n",
      "\n",
      "MHPMGQRANMPPVPHGM-MPQMMPPMG-GPPMG\n"
     ]
    }
   ],
   "source": [
    "# To compute the local alignment using SmithWaterman algoirthm\n",
    "# To do that I started from the best score in the matrix \n",
    "# And started tracing back from the location of the best score\n",
    "\n",
    "Y, best, optimal_loc = create_matrix_for_local(A, B, F = G, S = blosum62, penalty_gap = -12)\n",
    "print(Y)\n",
    "print(optimal_loc)\n",
    "print(Y.shape)\n",
    "print(best)\n",
    "def compute_local_alignment(seq_A, seq_B, F, S, penalty_gap):\n",
    "    \n",
    "    \n",
    "    i = optimal_loc[0]\n",
    "    j = optimal_loc[1]\n",
    "    \n",
    "    alignment_A = \"\"\n",
    "    alignment_B = \"\"\n",
    "    while (i >= 0 or j >= 0 and (F[i - 1][j - 1] > 0)):\n",
    "        \n",
    "        if(i >= 0 and j >= 0  and (F[i][j] == F[i - 1][j - 1] + int(S[A[i]][B[j]]))):\n",
    "        \n",
    "            alignment_A += seq_A[i]\n",
    "            alignment_B += seq_B[j]\n",
    "            \n",
    "            i -= 1\n",
    "            j -= 1\n",
    "            \n",
    "        elif( i >= 0 and j >= 0   and F[i][j] == F[i-1][j] + (penalty_gap)):\n",
    "            \n",
    "            alignment_A += seq_A[i]\n",
    "            alignment_B += \"-\"\n",
    "            \n",
    "            i -= 1\n",
    "\n",
    "        else:   \n",
    "            \n",
    "            alignment_A += \"-\"\n",
    "            alignment_B += seq_B[j]\n",
    "                        \n",
    "            j -= 1\n",
    "            \n",
    "    print(alignment_A[::-1])\n",
    "    print() \n",
    "    print(alignment_B[::-1])\n",
    "compute_local_alignment(A, B, F = Y, S = blosum62, penalty_gap = -12)"
   ]
  },
  {
   "cell_type": "code",
   "execution_count": null,
   "metadata": {},
   "outputs": [],
   "source": []
  },
  {
   "cell_type": "code",
   "execution_count": null,
   "metadata": {},
   "outputs": [],
   "source": []
  }
 ],
 "metadata": {
  "kernelspec": {
   "display_name": "Python 3",
   "language": "python",
   "name": "python3"
  },
  "language_info": {
   "codemirror_mode": {
    "name": "ipython",
    "version": 3
   },
   "file_extension": ".py",
   "mimetype": "text/x-python",
   "name": "python",
   "nbconvert_exporter": "python",
   "pygments_lexer": "ipython3",
   "version": "3.6.4"
  }
 },
 "nbformat": 4,
 "nbformat_minor": 2
}
