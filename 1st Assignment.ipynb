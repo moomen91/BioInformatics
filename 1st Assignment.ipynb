{
 "cells": [
  {
   "cell_type": "code",
   "execution_count": 1,
   "metadata": {},
   "outputs": [],
   "source": [
    "#importing some libraries\n",
    "\n",
    "import numpy as np\n",
    "import urllib.request\n"
   ]
  },
  {
   "cell_type": "code",
   "execution_count": 25,
   "metadata": {},
   "outputs": [
    {
     "name": "stdout",
     "output_type": "stream",
     "text": [
      "Enter the first sequence: SGAKSMWTEHKSPDGRTYYYNTETKQSTWEKPDD\n",
      "Enter the second sequence: LLSKCPWKEYKSDSGKPYYYNSQTKESRWAKPKE\n",
      "['S', 'G', 'A', 'K', 'S', 'M', 'W', 'T', 'E', 'H', 'K', 'S', 'P', 'D', 'G', 'R', 'T', 'Y', 'Y', 'Y', 'N', 'T', 'E', 'T', 'K', 'Q', 'S', 'T', 'W', 'E', 'K', 'P', 'D', 'D']\n",
      "['L', 'L', 'S', 'K', 'C', 'P', 'W', 'K', 'E', 'Y', 'K', 'S', 'D', 'S', 'G', 'K', 'P', 'Y', 'Y', 'Y', 'N', 'S', 'Q', 'T', 'K', 'E', 'S', 'R', 'W', 'A', 'K', 'P', 'K', 'E']\n",
      "0.0\n"
     ]
    }
   ],
   "source": [
    "# initialization of the similarity matrix\n",
    "A = input(\"Enter the first sequence: \")\n",
    "B = input(\"Enter the second sequence: \")\n",
    "\n",
    "\n",
    "A = [i for i in A]\n",
    "B = [i for i in B]\n",
    "\n",
    "#to print the similarity matrix\n",
    "\n",
    "G = np.zeros((len(A),len(B)))                                   \n",
    "#G = [[0 for i in range(len(A))] for j in range(len(B))]\n",
    "\n",
    "\n",
    "print(A)\n",
    "print(B)\n",
    "print(G[3][4])"
   ]
  },
  {
   "cell_type": "code",
   "execution_count": 33,
   "metadata": {
    "slideshow": {
     "slide_type": "slide"
    }
   },
   "outputs": [
    {
     "name": "stdout",
     "output_type": "stream",
     "text": [
      "-2\n"
     ]
    }
   ],
   "source": [
    "# constructing subsitution matrix\n",
    "# I used the link below to fetch the matrix after uploading the matrices to the git repository\n",
    "blosum62_url = 'https://raw.githubusercontent.com/moomen91/BioInformatics/master/blosum62.txt'\n",
    "blosum80_url = 'https://raw.githubusercontent.com/moomen91/BioInformatics/master/blosum80.txt'\n",
    "pam60_url = 'https://raw.githubusercontent.com/moomen91/BioInformatics/master/pam60.txt'\n",
    "pam120_url = 'https://raw.githubusercontent.com/moomen91/BioInformatics/master/pam120.txt'\n",
    "\n",
    "\n",
    "def get_substitution_matrix(url):\n",
    "    \n",
    "\n",
    "    f = urllib.request.urlopen(url) \n",
    "\n",
    "    file = f.readlines()\n",
    "\n",
    "    substitution_matrix = list()\n",
    "    \n",
    "    for line in file:\n",
    "        line = line.split()\n",
    "        line = [i.decode('utf-8') for i in line]\n",
    "        if('#' not in line):\n",
    "            \n",
    "            substitution_matrix.append(line)\n",
    "\n",
    "    #making multidimentional dictionary to map all the characters\n",
    "\n",
    "    matrix_dict = {}\n",
    "\n",
    "    for i in range(len(substitution_matrix)-1):\n",
    "    \n",
    "        matrix_dict[substitution_matrix[i][0]] = {}\n",
    "    \n",
    "        for j in range(len(substitution_matrix[0])-1):\n",
    "        \n",
    "            matrix_dict[substitution_matrix[i][0]][substitution_matrix[0][j]] = substitution_matrix[i][j + 1]\n",
    "            \n",
    "    return matrix_dict\n",
    "\n",
    "#creating all the matrices by calling the fuction of get_substitution_matrix\n",
    "\n",
    "blosum62 = get_substitution_matrix(blosum62_url)\n",
    "blosum80 = get_substitution_matrix(blosum80_url)\n",
    "pam60 = get_substitution_matrix(pam60_url)\n",
    "pam120 = get_substitution_matrix(pam120_url)\n",
    "\n",
    "print(blosum62['A']['N'])"
   ]
  },
  {
   "cell_type": "code",
   "execution_count": 34,
   "metadata": {},
   "outputs": [
    {
     "name": "stdout",
     "output_type": "stream",
     "text": [
      "[[-2. -2.  4. ... -1.  0.  0.]\n",
      " [-4. -6. -2. ... -2. -3.  0.]\n",
      " [-1. -5. -5. ... -2. -3.  0.]\n",
      " ...\n",
      " [-3. -5. -6. ... 96. 84.  0.]\n",
      " [-4. -7. -5. ... 84. 95.  0.]\n",
      " [ 0.  0.  0. ...  0.  0.  0.]]\n"
     ]
    }
   ],
   "source": [
    "#filling in the matrix\n",
    "# the pseudo code for the following implementation can be found on the following link\n",
    "# https://en.wikipedia.org/wiki/Needleman%E2%80%93Wunsch_algorithm#Scoring_systems\n",
    "\n",
    "def createScoringMatrix(seq_A, seq_B, F, S, penalty_gap):\n",
    "    \n",
    "    for i in range(len(seq_A)-1):\n",
    "        \n",
    "        F[i][0] = penalty_gap*i\n",
    "        \n",
    "    for j in range(len(seq_B)-1):\n",
    "        \n",
    "        F[0][j] = penalty_gap*j\n",
    "        \n",
    "    for i in range(len(seq_A)-1):\n",
    "        \n",
    "        for j in range(len(seq_B)-1):\n",
    "            \n",
    "            match = F[i-1][j-1] + int(S[seq_A[i]][seq_B[j]])\n",
    "            delete = F[i-1][j] + penalty_gap\n",
    "            insert = F[i][j-1] + penalty_gap\n",
    "            \n",
    "            F[i][j] = max(match, delete, insert)\n",
    "            \n",
    "    return F\n",
    "\n",
    "X = createScoringMatrix(seq_A = A, seq_B = B, F = G, S = blosum_dict, penalty_gap = -12)\n",
    "print(np.matrix(X))"
   ]
  },
  {
   "cell_type": "code",
   "execution_count": 36,
   "metadata": {},
   "outputs": [
    {
     "name": "stdout",
     "output_type": "stream",
     "text": [
      "SGAKSMWTEHKSPDGRTYYYNTETKQSTWEKPD-\n",
      "\n",
      "LLSKCPWKEYKSDSGKPYYYNSQTKESRWAKPKE\n"
     ]
    }
   ],
   "source": [
    "# to compute an allignment using the algorithm\n",
    "\n",
    "def compute_alignment(seq_A, seq_B, F, S, penalty_gap):\n",
    "    \n",
    "    alignment_A = \"\"\n",
    "    alignment_B = \"\"\n",
    "    i = len(A) - 1\n",
    "    j = len(B) - 1\n",
    "\n",
    "    while(i >= 0 or j >= 0):\n",
    "    \n",
    "        if(i >= 0 and j >= 0 and (F[i][j] == F[i - 1][j - 1] + int(blosum_dict[A[i]][B[j]]))):\n",
    "        \n",
    "            alignment_A += seq_A[i]\n",
    "            alignment_B += seq_B[j]\n",
    "            i -= 1\n",
    "            j -= 1\n",
    "        elif( i >= 0 and j >= 0 and F[i][j] == F[i-1][j] + (penalty_gap)):\n",
    "            alignment_A += seq_A[i]\n",
    "            alignment_B += \"-\"\n",
    "            \n",
    "            i -= 1\n",
    "            j -= 1\n",
    "        else:\n",
    "        \n",
    "            alignment_A += \"-\"\n",
    "            alignment_B += seq_B[j]\n",
    "            \n",
    "            i -= 1\n",
    "            j -= 1\n",
    "            \n",
    "    print(alignment_A[::-1])\n",
    "    print()\n",
    "    print(alignment_B[::-1])\n",
    "    \n",
    "\n",
    "compute_alignment(seq_A = A, seq_B = B, F = X, S = blosum_dict, penalty_gap = -12)\n",
    "    "
   ]
  },
  {
   "cell_type": "code",
   "execution_count": null,
   "metadata": {},
   "outputs": [],
   "source": []
  }
 ],
 "metadata": {
  "kernelspec": {
   "display_name": "Python 3",
   "language": "python",
   "name": "python3"
  },
  "language_info": {
   "codemirror_mode": {
    "name": "ipython",
    "version": 3
   },
   "file_extension": ".py",
   "mimetype": "text/x-python",
   "name": "python",
   "nbconvert_exporter": "python",
   "pygments_lexer": "ipython3",
   "version": "3.6.4"
  }
 },
 "nbformat": 4,
 "nbformat_minor": 2
}
