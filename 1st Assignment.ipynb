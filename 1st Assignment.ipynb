{
 "cells": [
  {
   "cell_type": "code",
   "execution_count": 1,
   "metadata": {},
   "outputs": [],
   "source": [
    "#importing some libraries\n",
    "\n",
    "import numpy as np\n",
    "import urllib.request\n"
   ]
  },
  {
   "cell_type": "code",
   "execution_count": 2,
   "metadata": {},
   "outputs": [
    {
     "name": "stdout",
     "output_type": "stream",
     "text": [
      "Enter the first sequence: GCCCTAGCG\n",
      "Enter the second sequence: GCGCAATG\n",
      "['G', 'C', 'C', 'C', 'T', 'A', 'G', 'C', 'G']\n",
      "['G', 'C', 'G', 'C', 'A', 'A', 'T', 'G']\n",
      "0\n"
     ]
    }
   ],
   "source": [
    "# initialization of the similarity matrix\n",
    "A = input(\"Enter the first sequence: \")\n",
    "B = input(\"Enter the second sequence: \")\n",
    "\n",
    "\n",
    "A = [i for i in A]\n",
    "B = [i for i in B]\n",
    "\n",
    "#to print the similarity matrix\n",
    "\n",
    "#G = np.zeros((len(A),len(B)))                                   \n",
    "G = [[0 for i in range(len(A))] for j in range(len(B))]\n",
    "\n",
    "\n",
    "print(A)\n",
    "print(B)\n",
    "print(G[3][4])"
   ]
  },
  {
   "cell_type": "code",
   "execution_count": 3,
   "metadata": {},
   "outputs": [
    {
     "name": "stdout",
     "output_type": "stream",
     "text": [
      "9\n"
     ]
    }
   ],
   "source": [
    "# constructing blosum matrix\n",
    "# I used the link below to fetch the matrix \n",
    "blosum62_url = 'ftp://ftp.ncbi.nih.gov/blast/matrices/BLOSUM62'\n",
    "\n",
    "f = urllib.request.urlopen(blosum62_url) \n",
    "\n",
    "file = f.readlines()\n",
    "\n",
    "blosum62 = list()\n",
    "for line in file:\n",
    "    line = line.split()\n",
    "    line = [i.decode('utf-8') for i in line]\n",
    "    if(line[0] != '#'):\n",
    "        blosum62.append(line)\n",
    "\n",
    "#making multidimentional dictionary to map all the characters\n",
    "\n",
    "blosum_dict = {}\n",
    "\n",
    "for i in range(len(blosum62)-1):\n",
    "    \n",
    "    blosum_dict[blosum62[i][0]] = {}\n",
    "    \n",
    "    for j in range(len(blosum62[0])-1):\n",
    "        \n",
    "        blosum_dict[blosum62[i][0]][blosum62[0][j]] = blosum62[i][j + 1]\n",
    "        \n",
    "print(blosum_dict[A[2]][B[3]])"
   ]
  },
  {
   "cell_type": "code",
   "execution_count": 4,
   "metadata": {},
   "outputs": [
    {
     "name": "stdout",
     "output_type": "stream",
     "text": [
      "[[  0  -2  -4  -6  -8 -10 -12   0   0]\n",
      " [ -2   9   7   5   3   1  -1   0   0]\n",
      " [ -4   7   6  16  14  12  10   0   0]\n",
      " [ -6   5   4  15  16  14  12   0   0]\n",
      " [ -8   3   3  13  15  16  19   0   0]\n",
      " [-10   1   3  11  17  19  17   0   0]\n",
      " [-12  -1   7   9  15  17  17   0   0]\n",
      " [-14  -3   5  16  14  15  16   0   0]]\n"
     ]
    }
   ],
   "source": [
    "#filling in the matrix\n",
    "# the pseudo code for the following implementation can be found on the following link\n",
    "# https://en.wikipedia.org/wiki/Needleman%E2%80%93Wunsch_algorithm#Scoring_systems\n",
    "\n",
    "def createScoringMatrix(seq_A, seq_B, F, S, penalty_gap):\n",
    "    \n",
    "    for i in range(len(seq_A)-1):\n",
    "        \n",
    "        F[i][0] = penalty_gap*i\n",
    "        \n",
    "    for j in range(len(seq_B)-1):\n",
    "        \n",
    "        F[0][j] = penalty_gap*j\n",
    "        \n",
    "    for i in range(1, len(seq_A)-1):\n",
    "        \n",
    "        for j in range(1, len(seq_B)-1):\n",
    "            \n",
    "            match = F[i-1][j-1] + int(S[seq_A[i]][seq_B[j]])\n",
    "            delete = F[i-1][j] + penalty_gap\n",
    "            insert = F[i][j-1] + penalty_gap\n",
    "            \n",
    "            F[i][j] = max(match, delete, insert)\n",
    "            \n",
    "    return F\n",
    "\n",
    "X = createScoringMatrix(seq_A = A, seq_B = B, F = G, S = blosum_dict, penalty_gap = -2)\n",
    "print(np.matrix(X))\n"
   ]
  },
  {
   "cell_type": "code",
   "execution_count": 6,
   "metadata": {},
   "outputs": [
    {
     "name": "stdout",
     "output_type": "stream",
     "text": [
      "('CCCAGC-T', 'CGCAATG-')\n"
     ]
    }
   ],
   "source": [
    "# to compute an allignment using the algorithm\n",
    "\n",
    "def compute_alignment(seq_A, seq_B, F, S, penalty_gap):\n",
    "    \n",
    "    alignment_A = \"\"\n",
    "    alignment_B = \"\"\n",
    "\n",
    "    i = len(A) -2\n",
    "    j = len(B) -1\n",
    "            \n",
    "    while(i > 0 or j > 0):\n",
    "            \n",
    "        if (i > 0 and j > 0 and (F[i][j] == F[i-1][j-1] + int(S[seq_A[i]][seq_B[j]]))):\n",
    "            \n",
    "            alignment_A = seq_A[i] + alignment_A\n",
    "            alignment_B = seq_B[j] + alignment_B\n",
    "            \n",
    "            i -= 1\n",
    "            j -= 1\n",
    "        \n",
    "            \n",
    "        elif( i > 0 and (F[i][j] == F[i-1][j] + penalty_gap)):\n",
    "            \n",
    "            alignment_A += seq_A[i]\n",
    "            alignment_B += \"-\"\n",
    "            \n",
    "            i -= 1\n",
    "        else:\n",
    "            \n",
    "            alignment_A += \"-\"\n",
    "            alignment_B += seq_B[j]\n",
    "            \n",
    "            j -= 1\n",
    "            \n",
    "    return alignment_A, alignment_B\n",
    "\n",
    "print(compute_alignment(seq_A = A, seq_B = B, F = G, S = blosum_dict, penalty_gap = -2))\n",
    "    "
   ]
  },
  {
   "cell_type": "code",
   "execution_count": null,
   "metadata": {},
   "outputs": [],
   "source": []
  }
 ],
 "metadata": {
  "celltoolbar": "Raw Cell Format",
  "kernelspec": {
   "display_name": "Python 3",
   "language": "python",
   "name": "python3"
  },
  "language_info": {
   "codemirror_mode": {
    "name": "ipython",
    "version": 3
   },
   "file_extension": ".py",
   "mimetype": "text/x-python",
   "name": "python",
   "nbconvert_exporter": "python",
   "pygments_lexer": "ipython3",
   "version": "3.6.4"
  }
 },
 "nbformat": 4,
 "nbformat_minor": 2
}
