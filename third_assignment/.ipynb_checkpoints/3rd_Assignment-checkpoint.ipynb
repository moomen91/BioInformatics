{
 "cells": [
  {
   "cell_type": "markdown",
   "metadata": {},
   "source": [
    "# Algorithms in Comp Bio & BioInformatics\n",
    "# 3rd_Assignment--GOR III Secondary Structure Prediction\n",
    "# Moamin Abdulkareem"
   ]
  },
  {
   "cell_type": "code",
   "execution_count": 2,
   "metadata": {},
   "outputs": [],
   "source": [
    "import numpy as np\n"
   ]
  },
  {
   "cell_type": "code",
   "execution_count": 11,
   "metadata": {},
   "outputs": [],
   "source": [
    "def load_data(filename):\n",
    "    \n",
    "    f = open(filename)\n",
    "    \n",
    "    L = list()\n",
    "    \n",
    "    for line in f:\n",
    "        \n",
    "        line = line.split()\n",
    "        \n",
    "        if not line:\n",
    "            continue\n",
    "        \n",
    "        L.append(line)\n",
    "    \n",
    "    L = np.asarray(L)\n",
    "    return L"
   ]
  },
  {
   "cell_type": "code",
   "execution_count": 14,
   "metadata": {},
   "outputs": [
    {
     "name": "stdout",
     "output_type": "stream",
     "text": [
      "71077\n"
     ]
    }
   ],
   "source": [
    "dssp_file = 'dssp_info.txt'\n",
    "stride_file = 'stride_info.txt'\n",
    "stride_dataset = load_data(stride_file)\n",
    "dssp_dataset = load_data(dssp_file)\n",
    "\n",
    "print(len(stride_dataset))"
   ]
  },
  {
   "cell_type": "code",
   "execution_count": null,
   "metadata": {},
   "outputs": [],
   "source": [
    "# algorithm implementation\n"
   ]
  }
 ],
 "metadata": {
  "kernelspec": {
   "display_name": "Python 3",
   "language": "python",
   "name": "python3"
  },
  "language_info": {
   "codemirror_mode": {
    "name": "ipython",
    "version": 3
   },
   "file_extension": ".py",
   "mimetype": "text/x-python",
   "name": "python",
   "nbconvert_exporter": "python",
   "pygments_lexer": "ipython3",
   "version": "3.6.4"
  }
 },
 "nbformat": 4,
 "nbformat_minor": 2
}
