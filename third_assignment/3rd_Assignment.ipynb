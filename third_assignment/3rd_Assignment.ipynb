{
 "cells": [
  {
   "cell_type": "markdown",
   "metadata": {},
   "source": [
    "# Algorithms in Comp Bio & BioInformatics\n",
    "## 3rd_Assignment--GOR III Secondary Structure Prediction\n",
    "# Moamin Abdulkareem"
   ]
  },
  {
   "cell_type": "code",
   "execution_count": 2,
   "metadata": {},
   "outputs": [],
   "source": [
    "import numpy as np\n",
    "import math \n"
   ]
  },
  {
   "cell_type": "code",
   "execution_count": 3,
   "metadata": {},
   "outputs": [],
   "source": [
    "def load_data(filename):\n",
    "    \n",
    "    f = open(filename)\n",
    "    \n",
    "    L = list()\n",
    "    \n",
    "    for line in f:\n",
    "        \n",
    "        line = line.split()\n",
    "        \n",
    "        if not line:\n",
    "            continue\n",
    "        \n",
    "        L.append(line)\n",
    "    \n",
    "    L = np.asarray(L)\n",
    "    return L"
   ]
  },
  {
   "cell_type": "code",
   "execution_count": 4,
   "metadata": {},
   "outputs": [
    {
     "name": "stdout",
     "output_type": "stream",
     "text": [
      "71077\n",
      "71391\n",
      "[['1w0n' 'A' '12' 'ILE' 'Coil']\n",
      " ['1w0n' 'A' '13' 'THR' 'Beta']\n",
      " ['1w0n' 'A' '14' 'LYS' 'Beta']\n",
      " ...\n",
      " ['1ow4' 'A' '116' 'ASN' 'Helix']\n",
      " ['1ow4' 'A' '117' 'SER' 'Coil']\n",
      " ['1ow4' 'A' '118' 'TYR' 'Coil']]\n"
     ]
    }
   ],
   "source": [
    "dssp_file = 'dssp_info.txt'\n",
    "stride_file = 'stride_info.txt'\n",
    "cath_file = 'cath_info.txt'\n",
    "stride_dataset = load_data(stride_file)\n",
    "dssp_dataset = load_data(dssp_file)\n",
    "cath_dataset = load_data(cath_file)\n",
    "\n",
    "print(len(stride_dataset))\n",
    "print(len(dssp_dataset))\n",
    "print(dssp_dataset)"
   ]
  },
  {
   "cell_type": "code",
   "execution_count": 5,
   "metadata": {},
   "outputs": [],
   "source": [
    "# pre-process the datasets\n",
    "amino_acids = ['ALA', 'ARG', 'ASN', 'ASP', 'CYS', 'GLU', 'GLN', 'GLY','HIS','ILE', 'LEU', 'LYS', 'MET','PHE', 'PRO','SER', 'THR', 'TRP', 'TYR', 'VAL']\n",
    "\n",
    "def change_other_to_coil(dataset, amino_set):\n",
    "    for i in range(len(dataset)):\n",
    "        \n",
    "        if dataset[i][4] == 'Other':\n",
    "            dataset[i][4] = 'Coil'\n",
    "    \n",
    "    return dataset\n",
    "stride = change_other_to_coil(stride_dataset, amino_acids)\n",
    "dssp = change_other_to_coil(dssp_dataset, amino_acids)\n",
    "\n",
    "\n",
    "\n",
    "amino_acids_letters = 'A,R,N,D,C,E,Q,G,H,I,L,K,M,F,P,S,T,W,Y,V'\n",
    "amino_acids_letters = amino_acids_letters.split(',')\n",
    "\n",
    "indices = list()\n",
    "def remove_non_amino(dataset,amino_list):\n",
    "    \n",
    "    for i in range(len(dataset)):\n",
    "        if dataset[i][3] not in amino_acids:\n",
    "            indices.append(i)\n",
    "    dataset = np.delete(dataset, indices, axis=0)\n",
    "    return dataset\n",
    "stride = remove_non_amino(stride, amino_acids)\n",
    "dssp = remove_non_amino(dssp, amino_acids)\n"
   ]
  },
  {
   "cell_type": "markdown",
   "metadata": {},
   "source": [
    "## Implementation of GOR III algorithm\n",
    "### We will compute the self information first according to the formula below\n",
    "<img src=\"http://latex.codecogs.com/gif.latex?\\dpi{120}&space;I(\\Delta&space;S_j;&space;R_1,...,&space;R_n)&space;=&space;log(f_{S_j,&space;R_j&plus;m,&space;R_j}&space;/&space;f_{n-S_j,&space;R_j&plus;m,&space;R_j})&space;&plus;&space;log(f_{n-S_j,R_j}&space;/&space;f_{S_j,R_j})\" title=\"I(\\Delta S_j; R_1,..., R_n) = log(f_{S_j, R_j+m, R_j} / f_{n-S_j, R_j+m, R_j}) + log(f_{n-S_j,R_j} / f_{S_j,R_j})\" />\n"
   ]
  },
  {
   "cell_type": "code",
   "execution_count": 43,
   "metadata": {},
   "outputs": [
    {
     "name": "stdout",
     "output_type": "stream",
     "text": [
      "2877\n"
     ]
    }
   ],
   "source": [
    "# since the dataset is huge so i made this function to extract a specific number of proteins\n",
    "# then we can apply the algorithm on this portion of the dataset\n",
    "def get_n_proteins(dataset, n):\n",
    "    \n",
    "    protein_count = 0\n",
    "    start = dataset[0][0]\n",
    "    \n",
    "    alist = list()\n",
    "    proteins_names = list()\n",
    "    j = 0\n",
    "    i = 0\n",
    "    while i < len(dataset):\n",
    "        \n",
    "        protein_count += 1\n",
    "        proteins_names.append(start)\n",
    "        while j < len(dataset)-1 and dataset[j][0] == start and protein_count < n:\n",
    "            alist.append(dataset[j])\n",
    "            \n",
    "            j += 1\n",
    "        start = dataset[j][0]\n",
    "        i += j\n",
    "        if protein_count == n:\n",
    "            \n",
    "            break\n",
    "    \n",
    "    return alist, proteins_names\n",
    "dssp_30, proteins_names_dssp = get_n_proteins(dssp, 30)\n",
    "print(len(dssp_30))"
   ]
  },
  {
   "cell_type": "code",
   "execution_count": 7,
   "metadata": {},
   "outputs": [],
   "source": [
    "# Here I start with the implementation of the algorithm based on the equation above\n",
    "# We have to compute the self information and then the directional information using these formulas above\n",
    "\n",
    "dssp_20, first_20_proteins = get_n_proteins(dssp, 20)\n",
    "# Now i will use this function to get the frequencies per protein so \n",
    "def get_frequencies_of_conformations(dataset):\n",
    "    \n",
    "    Helix_freq = 0\n",
    "    Beta_freq = 0\n",
    "    Coil_freq = 0\n",
    "    \n",
    "    for i in range(len(dataset)):\n",
    "            \n",
    "        if dataset[i][4] == 'Helix':\n",
    "            \n",
    "            Helix_freq +=1\n",
    "            \n",
    "        elif dataset[i][4] == 'Beta':\n",
    "            \n",
    "            Beta_freq += 1\n",
    "            \n",
    "        else:\n",
    "            Coil_freq += 1\n",
    "        \n",
    "        # The output of this function will be the frequencies of every conformation\n",
    "        # And also the frequencies fn-s which is observing non specific conformation\n",
    "        \n",
    "    total_freq = Helix_freq + Beta_freq + Coil_freq\n",
    "    non_helix_freq = total_freq - Helix_freq\n",
    "    non_Beta_freq = total_freq - Beta_freq\n",
    "    non_coil_freq = total_freq - Coil_freq\n",
    "        \n",
    "    return Helix_freq, non_helix_freq, Beta_freq, non_Beta_freq, Coil_freq, non_coil_freq\n",
    "\n",
    "\n"
   ]
  },
  {
   "cell_type": "code",
   "execution_count": 8,
   "metadata": {},
   "outputs": [
    {
     "name": "stdout",
     "output_type": "stream",
     "text": [
      "(2896, 3065)\n"
     ]
    }
   ],
   "source": [
    "def get_f_s_r(dataset):\n",
    "    \n",
    "    freq_dict = {}\n",
    "        \n",
    "    for amino_acid in amino_acids:\n",
    "        count_helix = 0\n",
    "        count_sheet = 0\n",
    "        count_coil = 0\n",
    "        count_total = 0\n",
    "        for line in dataset:\n",
    "            if line[3] == amino_acid and line[4] == 'Helix':\n",
    "                count_helix +=1\n",
    "            elif line[3] == amino_acid and line[4] == 'Beta':\n",
    "                count_sheet +=1\n",
    "            elif line[3] == amino_acid and line[4] == 'Coil':\n",
    "                count_coil +=1\n",
    "            count_total = count_helix + count_sheet + count_coil\n",
    "        \n",
    "        # we counted the total so we can get fn-s_r also in the output\n",
    "        # the output will be a tuple which consists of two values\n",
    "        # the first thing is the count of a specific conformation for a specific amino_acid\n",
    "        # the second element in the tuple is the number of times we don't encounter a specific\n",
    "        # conformation for a specific aminoacid\n",
    "        freq_dict[(amino_acid, 'Helix')] = (count_helix, count_total - count_helix)\n",
    "        freq_dict[(amino_acid, 'Beta')] = (count_sheet, count_total - count_sheet)\n",
    "        freq_dict[(amino_acid, 'Coil')] = (count_coil, count_total - count_coil)\n",
    "    \n",
    "    # to count number of times we see a specific conformation and also the number of times that we don't observe it\n",
    "        \n",
    "    return freq_dict \n",
    "f_s_r = get_f_s_r(dssp)\n",
    "\n",
    "print(f_s_r[('ALA', 'Helix')])\n"
   ]
  },
  {
   "cell_type": "code",
   "execution_count": null,
   "metadata": {},
   "outputs": [],
   "source": []
  },
  {
   "cell_type": "code",
   "execution_count": 36,
   "metadata": {
    "scrolled": true
   },
   "outputs": [
    {
     "name": "stdout",
     "output_type": "stream",
     "text": [
      "1835\n"
     ]
    }
   ],
   "source": [
    "# Now we will compute the self information and then the directional information\n",
    "\n",
    "dssp_20, first_20_proteins = get_n_proteins(dssp,20)\n",
    "stride_20, first_20_stride = get_n_proteins(stride, 20)\n",
    "\n",
    "\n",
    "\n",
    "def get_self_information(dataset, n):\n",
    "    \n",
    "    # we have to get the frequencies of the conformations in the dataset first\n",
    "    \n",
    "    self_information = list()\n",
    "    \n",
    "    i = 0\n",
    "    j = 0\n",
    "    \n",
    "    f_helix, f_non_helix, f_beta, f_non_beta, f_coil, f_non_coil = get_frequencies_of_conformations(dataset)\n",
    "    \n",
    "    f_s_r = get_f_s_r(dataset)\n",
    "\n",
    "\n",
    "    dataset, protein_list = get_n_proteins(dataset,n)\n",
    "    \n",
    "    \n",
    "    \n",
    "    while i < len(protein_list):\n",
    "        \n",
    "        \n",
    "        while j < len(dataset):\n",
    "            \n",
    "            \n",
    "            \n",
    "            \n",
    "            \n",
    "            if dataset[j][0] == protein_list[i]:\n",
    "                \n",
    "                amino_acid = dataset[j][3]\n",
    "               \n",
    "                I_helix = math.log(f_s_r[(amino_acid, 'Helix')][0] / f_s_r[(amino_acid, 'Helix')][1] ) + math.log(f_non_helix/f_helix)\n",
    "                I_beta = math.log(f_s_r[(amino_acid, 'Beta')][0] / f_s_r[(amino_acid, 'Beta')][1]) + math.log(f_non_beta/ f_beta)\n",
    "                I_coil = math.log(f_s_r[(amino_acid, 'Coil')][0] / f_s_r[(amino_acid, 'Coil')][1]) + math.log(f_non_coil / f_coil)\n",
    "                \n",
    "                self_information.append([I_helix,I_beta, I_coil])\n",
    "                \n",
    "                j += 1\n",
    "                \n",
    "                \n",
    "            else:\n",
    "                 \n",
    "            \n",
    "                break\n",
    "                \n",
    "        i += 1\n",
    "        \n",
    "    return self_information\n",
    "        \n",
    "    \n",
    "self_information_dssp = get_self_information(dssp, 20)\n",
    "\n",
    "print(len(self_information_dssp))\n"
   ]
  },
  {
   "cell_type": "markdown",
   "metadata": {},
   "source": [
    "### We'll use the following formula to get the pair information\n",
    "\n",
    "<img src=\"http://latex.codecogs.com/gif.latex?\\dpi{120}&space;I(\\Delta&space;S_j;&space;R_1&space;,&space;...&space;,&space;R_n)&space;\\approx&space;I(\\Delta&space;S_j&space;,&space;R_j)&space;&plus;&space;\\sum_{m=-8,&space;m!=&space;0}^{m=8}&space;I(\\Delta&space;S_j&space;;R_{j&plus;m}|R_j)&space;{\\'}~where&space;I(\\Delta&space;S_j&space;;R_{j&plus;m}|R_j)&space;=&space;log(f_{S_j,R_{j&plus;m},R_j&space;}&space;/&space;f_{n-S_j,R_{j&plus;m},R_j})&space;&plus;&space;log(f_{n-S_j,R_j}&space;/&space;f_{S_j,R_j})\" title=\"I(\\Delta S_j; R_1 , ... , R_n) \\approx I(\\Delta S_j , R_j) + \\sum_{m=-8, m!= 0}^{m=8} I(\\Delta S_j ;R_{j+m}|R_j) {\\'}~where I(\\Delta S_j ;R_{j+m}|R_j) = log(f_{S_j,R_{j+m},R_j } / f_{n-S_j,R_{j+m},R_j}) + log(f_{n-S_j,R_j} / f_{S_j,R_j})\" />"
   ]
  },
  {
   "cell_type": "code",
   "execution_count": 41,
   "metadata": {},
   "outputs": [
    {
     "name": "stdout",
     "output_type": "stream",
     "text": [
      "['B', 'B', 'H', 'B', 'H', 'H', 'H', 'C', 'H', 'C', 'C', 'C', 'C', 'C', 'C', 'C', 'C', 'C', 'C', 'C', 'C', 'C', 'C', 'C', 'C', 'C', 'C', 'C', 'C', 'C', 'B', 'B', 'B', 'H', 'H', 'H', 'B', 'C', 'C', 'B', 'B', 'B', 'B', 'C', 'C', 'C', 'C', 'C', 'C', 'C', 'C', 'C', 'C', 'C', 'C', 'C', 'C', 'B', 'C', 'C', 'C', 'C', 'B', 'B', 'B', 'B', 'B', 'B', 'B', 'B', 'C', 'B', 'C', 'C', 'C', 'C', 'B', 'C', 'C', 'C', 'C', 'C', 'C', 'C', 'C', 'C', 'C', 'C', 'C', 'B', 'B', 'H', 'H', 'H', 'H', 'H', 'H', 'C', 'C', 'C', 'C', 'C', 'C', 'H', 'H', 'C', 'C', 'C', 'C', 'C', 'C', 'C', 'C', 'C', 'C', 'B', 'B', 'B', 'B', 'B', 'B', 'B', 'B', 'B', 'B', 'B', 'B', 'B', 'B', 'B', 'H', 'B', 'B', 'B', 'B', 'H', 'H', 'H', 'H', 'H', 'H', 'H', 'H', 'H', 'B', 'B', 'B', 'B', 'B', 'B', 'B', 'H', 'B', 'B', 'B', 'B', 'H', 'H', 'H', 'H', 'H', 'H', 'H', 'H', 'H', 'H', 'H', 'H', 'H', 'H', 'H', 'H', 'H', 'H', 'H', 'H', 'H', 'H', 'H', 'H', 'H', 'H', 'H', 'H', 'H', 'H', 'H', 'H', 'H', 'H', 'H', 'H', 'H', 'H', 'H', 'H', 'H', 'H', 'H', 'H', 'H', 'H', 'H', 'H', 'B', 'C', 'B', 'C', 'C', 'C', 'C', 'C', 'C', 'C', 'C', 'C', 'C', 'C', 'C', 'C', 'C', 'C', 'C', 'C', 'H', 'H', 'H', 'H', 'C', 'C', 'H', 'H', 'H', 'H', 'H', 'H', 'H', 'B', 'B', 'B', 'B', 'B', 'B', 'B', 'B', 'B', 'B', 'B', 'B', 'B', 'B', 'B', 'B', 'B', 'B', 'B', 'B', 'B', 'B', 'B', 'B', 'B', 'B', 'B', 'B', 'B', 'B', 'B', 'B', 'B', 'C', 'C', 'C', 'C', 'C', 'C', 'C', 'C', 'C', 'C', 'B', 'B', 'H', 'H', 'H', 'H', 'H', 'H', 'H', 'H', 'H', 'H', 'H', 'B', 'B', 'C', 'H', 'C', 'C', 'C', 'C', 'C', 'H', 'H', 'H', 'C', 'B', 'B', 'B', 'H', 'H', 'H', 'H', 'H', 'H', 'H', 'H', 'H', 'H', 'H', 'H', 'H', 'H', 'H', 'H', 'H', 'H', 'H', 'H', 'H', 'C', 'C', 'C', 'C', 'C', 'C', 'C', 'C', 'C', 'C', 'C', 'C', 'C', 'C', 'C', 'C', 'C', 'C', 'C', 'C', 'C', 'C', 'C', 'C', 'C', 'C', 'C', 'H', 'H', 'H', 'H', 'H', 'H', 'H', 'H', 'H', 'H', 'H', 'H', 'H', 'H', 'C', 'H', 'H', 'H', 'H', 'H', 'H', 'H', 'C', 'H', 'H', 'C', 'H', 'H', 'H', 'C', 'H', 'H', 'H', 'H', 'H', 'H', 'H', 'H', 'H', 'H', 'H', 'H', 'H', 'H', 'H', 'H', 'H', 'H', 'H', 'H', 'H', 'B', 'H', 'B', 'B', 'C', 'B', 'B', 'B', 'C', 'C', 'C', 'C', 'C', 'C', 'C', 'C', 'C', 'C', 'C', 'C', 'C', 'H', 'H', 'H', 'H', 'H', 'H', 'H', 'H', 'H', 'H', 'H', 'H', 'H', 'H', 'H', 'C', 'C', 'C', 'C', 'C', 'C', 'C', 'C', 'C', 'C', 'C', 'C', 'C', 'C', 'C', 'C', 'C', 'C', 'C', 'C', 'C', 'C', 'H', 'B', 'B', 'B', 'H', 'H', 'C', 'B', 'B', 'B', 'C', 'B', 'H', 'H', 'H', 'H', 'H', 'H', 'H', 'H', 'H', 'H', 'H', 'H', 'H', 'H', 'H', 'H', 'H', 'H', 'H', 'H', 'H', 'H', 'C', 'C', 'C', 'C', 'B', 'C', 'C', 'C', 'B', 'B', 'B', 'B', 'H', 'B', 'C', 'B', 'B', 'B', 'B', 'B', 'B', 'B', 'B', 'H', 'B', 'B', 'B', 'B', 'B', 'B', 'B', 'B', 'B', 'B', 'B', 'B', 'B', 'B', 'B', 'B', 'B', 'C', 'C', 'C', 'C', 'C', 'C', 'C', 'C', 'H', 'C', 'C', 'H', 'C', 'C', 'H', 'H', 'H', 'H', 'C', 'C', 'C', 'C', 'C', 'C', 'C', 'C', 'C', 'H', 'C', 'C', 'C', 'C', 'C', 'C', 'C', 'C', 'C', 'C', 'C', 'C', 'C', 'C', 'C', 'C', 'C', 'C', 'C', 'C', 'C', 'C', 'C', 'C', 'H', 'H', 'H', 'C', 'H', 'H', 'H', 'H', 'H', 'H', 'H', 'H', 'H', 'H', 'H', 'H', 'H', 'C', 'C', 'C', 'C', 'C', 'C', 'C', 'C', 'C', 'B', 'C', 'C', 'C', 'C', 'C', 'C', 'C', 'B', 'B', 'H', 'B', 'B', 'B', 'B', 'B', 'B', 'B', 'B', 'B', 'B', 'B', 'B', 'B', 'B', 'B', 'B', 'B', 'B', 'C', 'C', 'C', 'C', 'C', 'C', 'C', 'C', 'C', 'C', 'C', 'C', 'C', 'C', 'C', 'C', 'C', 'C', 'C', 'C', 'C', 'C', 'C', 'C', 'C', 'C', 'C', 'C', 'C', 'H', 'C', 'C', 'C', 'H', 'H', 'C', 'H', 'H', 'H', 'H', 'H', 'B', 'B', 'H', 'H', 'H', 'H', 'H', 'H', 'H', 'H', 'H', 'H', 'H', 'H', 'H', 'H', 'H', 'H', 'H', 'H', 'H', 'H', 'H', 'H', 'H', 'H', 'H', 'H', 'H', 'H', 'H', 'H', 'H', 'H', 'H', 'B', 'B', 'B', 'B', 'B', 'B', 'B', 'B', 'B', 'B', 'B', 'B', 'B', 'B', 'B', 'B', 'B', 'C', 'B', 'B', 'B', 'B', 'H', 'B', 'H', 'H', 'H', 'B', 'B', 'B', 'B', 'B', 'C', 'B', 'B', 'B', 'C', 'B', 'C', 'C', 'C', 'C', 'C', 'C', 'C', 'C', 'H', 'H', 'H', 'B', 'B', 'B', 'B', 'B', 'B', 'B', 'B', 'B', 'B', 'H', 'H', 'H', 'H', 'B', 'B', 'H', 'H', 'H', 'H', 'H', 'H', 'H', 'H', 'H', 'H', 'H', 'B', 'B', 'B', 'B', 'B', 'B', 'B', 'B', 'B', 'B', 'B', 'B', 'C', 'B', 'B', 'B', 'B', 'B', 'B', 'C', 'C', 'H', 'B', 'C', 'C', 'C', 'C', 'C', 'C', 'H', 'H', 'H', 'H', 'H', 'H', 'H', 'H', 'H', 'H', 'H', 'H', 'H', 'H', 'H', 'H', 'H', 'H', 'H', 'H', 'C', 'H', 'H', 'H', 'H', 'H', 'H', 'C', 'C', 'C', 'C', 'C', 'C', 'C', 'C', 'C', 'C', 'H', 'C', 'H', 'H', 'H', 'H', 'H', 'H', 'H', 'H', 'H', 'H', 'H', 'H', 'H', 'H', 'B', 'B', 'B', 'B', 'B', 'B', 'B', 'B', 'B', 'B', 'B', 'B', 'B', 'B', 'B', 'B', 'B', 'B', 'B', 'B', 'B', 'B', 'B', 'B', 'B', 'B', 'C', 'C', 'C', 'C', 'C', 'C', 'C', 'C', 'C', 'C', 'C', 'C', 'C', 'C', 'C', 'C', 'C', 'C', 'C', 'C', 'B', 'B', 'B', 'B', 'B', 'B', 'B', 'B', 'B', 'B', 'H', 'B', 'B', 'B', 'B', 'B', 'B', 'B', 'B', 'B', 'B', 'C', 'C', 'C', 'C', 'C', 'C', 'C', 'C', 'C', 'C', 'C', 'C', 'C', 'C', 'C', 'C', 'C', 'C', 'C', 'C', 'C', 'B', 'C', 'C', 'C', 'C', 'C', 'C', 'C', 'C', 'C', 'C', 'C', 'C', 'C', 'C', 'C', 'C', 'C', 'C', 'C', 'C', 'C', 'C', 'C', 'C', 'C', 'C', 'B', 'B', 'B', 'B', 'C', 'B', 'C', 'C', 'C', 'C', 'C', 'B', 'B', 'B', 'B', 'B', 'C', 'C', 'C', 'C', 'C', 'C', 'C', 'C', 'C', 'H', 'C', 'C', 'C', 'H', 'H', 'C', 'H', 'H', 'H', 'H', 'H', 'H', 'H', 'H', 'H', 'H', 'H', 'H', 'H', 'H', 'H', 'C', 'C', 'C', 'C', 'C', 'C', 'C', 'C', 'C', 'B', 'B', 'B', 'B', 'B', 'B', 'C', 'C', 'C', 'C', 'B', 'B', 'B', 'B', 'B', 'B', 'B', 'B', 'B', 'B', 'B', 'B', 'C', 'C', 'B', 'B', 'C', 'C', 'C', 'C', 'B', 'B', 'B', 'C', 'C', 'C', 'C', 'C', 'C', 'C', 'C', 'H', 'C', 'C', 'C', 'C', 'C', 'C', 'C', 'C', 'C', 'H', 'C', 'H', 'H', 'H', 'H', 'H', 'H', 'H', 'H', 'H', 'H', 'C', 'H', 'H', 'H', 'C', 'C', 'C', 'C', 'C', 'C', 'C', 'C', 'C', 'C', 'B', 'B', 'B', 'H', 'B', 'B', 'B', 'B', 'C', 'C', 'B', 'B', 'B', 'B', 'H', 'H', 'H', 'H', 'H', 'H', 'H', 'H', 'H', 'H', 'H', 'H', 'H', 'H', 'B', 'B', 'B', 'B', 'C', 'C', 'B', 'C', 'C', 'C', 'C', 'B', 'C', 'C', 'C', 'C', 'C', 'C', 'C', 'C', 'C', 'C', 'C', 'H', 'H', 'H', 'H', 'H', 'H', 'H', 'H', 'H', 'H', 'H', 'H', 'H', 'B', 'B', 'B', 'B', 'B', 'B', 'B', 'B', 'B', 'B', 'B', 'B', 'C', 'C', 'C', 'C', 'C', 'B', 'B', 'C', 'B', 'C', 'C', 'C', 'C', 'B', 'C', 'B', 'B', 'B', 'B', 'B', 'B', 'B', 'B', 'B', 'C', 'C', 'C', 'C', 'C', 'C', 'C', 'C', 'C', 'C', 'C', 'C', 'C', 'C', 'C', 'C', 'C', 'C', 'C', 'C', 'H', 'H', 'H', 'C', 'C', 'C', 'C', 'C', 'B', 'H', 'H', 'H', 'H', 'H', 'H', 'H', 'H', 'H', 'H', 'H', 'H', 'H', 'H', 'H', 'H', 'H', 'H', 'H', 'H', 'H', 'C', 'C', 'C', 'C', 'C', 'C', 'C', 'C', 'C', 'C', 'H', 'H', 'H', 'H', 'H', 'B', 'B', 'C', 'C', 'C', 'C', 'B', 'C', 'C', 'C', 'C', 'C', 'C', 'C', 'C', 'C', 'C', 'C', 'C', 'C', 'C', 'C', 'C', 'C', 'C', 'C', 'H', 'H', 'H', 'H', 'H', 'H', 'H', 'H', 'H', 'H', 'H', 'H', 'H', 'H', 'H', 'H', 'H', 'H', 'H', 'H', 'B', 'H', 'B', 'B', 'B', 'B', 'B', 'B', 'B', 'H', 'B', 'H', 'H', 'H', 'H', 'H', 'H', 'H', 'H', 'C', 'B', 'B', 'B', 'B', 'H', 'B', 'B', 'H', 'H', 'H', 'B', 'B', 'B', 'B', 'B', 'B', 'B', 'B', 'B', 'B', 'B', 'B', 'H', 'H', 'B', 'C', 'C', 'C', 'C', 'C', 'C', 'H', 'B', 'H', 'H', 'H', 'H', 'B', 'B', 'B', 'B', 'B', 'B', 'H', 'B', 'C', 'C', 'H', 'H', 'H', 'H', 'H', 'H', 'H', 'H', 'H', 'H', 'H', 'H', 'H', 'H', 'B', 'H', 'B', 'B', 'B', 'B', 'C', 'C', 'C', 'C', 'C', 'C', 'C', 'C', 'C', 'C', 'C', 'C', 'C', 'C', 'H', 'H', 'H', 'H', 'H', 'H', 'H', 'H', 'H', 'H', 'H', 'H', 'H', 'H', 'H', 'H', 'H', 'H', 'H', 'H', 'H', 'H', 'H', 'H', 'H', 'H', 'H', 'H', 'H', 'H', 'H', 'H', 'H', 'C', 'C', 'H', 'H', 'H', 'H', 'H', 'H', 'H', 'H', 'H', 'H', 'H', 'H', 'H', 'H', 'H', 'H', 'H', 'H', 'H', 'H', 'H', 'C', 'H', 'H', 'H', 'H', 'H', 'H', 'C', 'H', 'H', 'H', 'H', 'H', 'H', 'C', 'H', 'H', 'H', 'H', 'H', 'H', 'H', 'H', 'H', 'H', 'H', 'H', 'H', 'H', 'H', 'H', 'H', 'C', 'C', 'C', 'C', 'C', 'C', 'C', 'C', 'C', 'C', 'C', 'C', 'C', 'C', 'C', 'C', 'C', 'C', 'C', 'B', 'B', 'B', 'H', 'H', 'H', 'H', 'H', 'H', 'H', 'H', 'H', 'H', 'B', 'B', 'H', 'H', 'H', 'H', 'H', 'C', 'C', 'C', 'C', 'C', 'C', 'C', 'C', 'C', 'C', 'C', 'C', 'C', 'C', 'C', 'C', 'C', 'C', 'C', 'C', 'H', 'H', 'H', 'H', 'H', 'H', 'H', 'H', 'H', 'H', 'H', 'H', 'H', 'H', 'H', 'H', 'H', 'H', 'H', 'H', 'H', 'H', 'C', 'C', 'C', 'C', 'C', 'C', 'C', 'C', 'C', 'C', 'C', 'C', 'C', 'C', 'C', 'C', 'C', 'C', 'C', 'C', 'C', 'C', 'C', 'C', 'C', 'C', 'C', 'C', 'C', 'B', 'B', 'B', 'B', 'B', 'H', 'C', 'C', 'C', 'C', 'C', 'C', 'C', 'C', 'C', 'C', 'C', 'C', 'C', 'C', 'C', 'B', 'B', 'B', 'B', 'B', 'B', 'B', 'B', 'B', 'B', 'B', 'B', 'B', 'H', 'B', 'C', 'H', 'B', 'B', 'B', 'H', 'H', 'C', 'C', 'C', 'H', 'H', 'H', 'H', 'H', 'H', 'H', 'H', 'H', 'H', 'H', 'H', 'H', 'H', 'H', 'H', 'H', 'H', 'H', 'H', 'H', 'H', 'H', 'H', 'H', 'H', 'H', 'H', 'H', 'H', 'H', 'H', 'H', 'H', 'H', 'H', 'H', 'H', 'H', 'H', 'H', 'H', 'H', 'H', 'H', 'B', 'B', 'B', 'B', 'B', 'B', 'B', 'C', 'C', 'C', 'C', 'C', 'C', 'C', 'C', 'C', 'C', 'C', 'C', 'C', 'C', 'C', 'C', 'C', 'C', 'C', 'C', 'C', 'C', 'C', 'B', 'B', 'B', 'B', 'B', 'B', 'B', 'B', 'B', 'B', 'B', 'B', 'H', 'B', 'B', 'B', 'H', 'H', 'H', 'H', 'B', 'B', 'B', 'B', 'B', 'B', 'B', 'B', 'B', 'B', 'B', 'B', 'B', 'B', 'B', 'B', 'B', 'C', 'C', 'C', 'C', 'C', 'C', 'B', 'B', 'C', 'C', 'C', 'C', 'C', 'C', 'C', 'C', 'C', 'C', 'C', 'C', 'C', 'H', 'H', 'H', 'H', 'H', 'H', 'H', 'H', 'H', 'C', 'C', 'C', 'C', 'C', 'C', 'C', 'C', 'C', 'C', 'C', 'C', 'C', 'C', 'C', 'C', 'C', 'H', 'H', 'H', 'H', 'H', 'H', 'H', 'H', 'H', 'H', 'B', 'C', 'C', 'C', 'C', 'C', 'C', 'C', 'C', 'C', 'C', 'C', 'B', 'B', 'C', 'C', 'C', 'C', 'C', 'C', 'C', 'B', 'B', 'C', 'C', 'C', 'C', 'C', 'C', 'C', 'C', 'C', 'C', 'C', 'H', 'H', 'H', 'H', 'H', 'H', 'H', 'H', 'H', 'H', 'H', 'H', 'H', 'H', 'H', 'H', 'H', 'H', 'H', 'H', 'H', 'H', 'H', 'H', 'H', 'C', 'C', 'C', 'C', 'C', 'C', 'C', 'C', 'C', 'C', 'C', 'C', 'C', 'H', 'H', 'H', 'H', 'H', 'H', 'H', 'H', 'H', 'H', 'H', 'H', 'H', 'H', 'H', 'H', 'H', 'H', 'H', 'H', 'H', 'H', 'H', 'H', 'H', 'H', 'H', 'H', 'H', 'H', 'C', 'C', 'C', 'C', 'C', 'C', 'C', 'C', 'C', 'C', 'C', 'H', 'H', 'H', 'H', 'H', 'H', 'H', 'H', 'H', 'H', 'H', 'H', 'H', 'H', 'C', 'C', 'C', 'C', 'C', 'C', 'C', 'C', 'C', 'C', 'C', 'C', 'B', 'B', 'C', 'B', 'B', 'B', 'C', 'C', 'C', 'C', 'C', 'C', 'C', 'C', 'C', 'C', 'C', 'C', 'C', 'C', 'C', 'C', 'C', 'C', 'C', 'C', 'C', 'C', 'C', 'C', 'C', 'C', 'C', 'C', 'C', 'C', 'C', 'C', 'C', 'C', 'C', 'C', 'C', 'C', 'B', 'B', 'B', 'B', 'B', 'B', 'B', 'H', 'H', 'H', 'H', 'H', 'H', 'H', 'H', 'H', 'H', 'H', 'H', 'H', 'H', 'H', 'H', 'H', 'H', 'H', 'H', 'H', 'H', 'H', 'H', 'H', 'H', 'H', 'H', 'H', 'H', 'H', 'H', 'H', 'H', 'H', 'H', 'H', 'H', 'H', 'H', 'H', 'H', 'H', 'H', 'H', 'H', 'H', 'H', 'H', 'H', 'H', 'H', 'H', 'H', 'H', 'H', 'H', 'H', 'H', 'H', 'H', 'H', 'H', 'H', 'H', 'H', 'H', 'B', 'B', 'C', 'C', 'C', 'C', 'C', 'B', 'B', 'B', 'B', 'H', 'H', 'C', 'C', 'H', 'C', 'C', 'C', 'B', 'C', 'C', 'C', 'B', 'B', 'C', 'C', 'C', 'C', 'C', 'C', 'C', 'C', 'C', 'C', 'C', 'C', 'C', 'C', 'C', 'C', 'C', 'C', 'C', 'H', 'C', 'C', 'H', 'H', 'H', 'H', 'H', 'H', 'H', 'H', 'C', 'C', 'C', 'H', 'C', 'C', 'C', 'C', 'C', 'C', 'C', 'C', 'C', 'C', 'C', 'C', 'C', 'C', 'C', 'C', 'C', 'C', 'C', 'C', 'C', 'C', 'C', 'C', 'C', 'C', 'C', 'C', 'C', 'C', 'C', 'C', 'C', 'H', 'H', 'H', 'H', 'H', 'H', 'H', 'H', 'H', 'H', 'H', 'H', 'H', 'H', 'H', 'B', 'C', 'C', 'C', 'C', 'C', 'C', 'C', 'C', 'C', 'C', 'C', 'C', 'C', 'C', 'C', 'C', 'C', 'C', 'C', 'C', 'C', 'C', 'C', 'C', 'C', 'C', 'C', 'C', 'C', 'C', 'C', 'C', 'C', 'C', 'C', 'C', 'C', 'C', 'C', 'C', 'C', 'C', 'C', 'H', 'C', 'C', 'C', 'C', 'C', 'C', 'C', 'C', 'C', 'B', 'H', 'H', 'H', 'H', 'H', 'C', 'H', 'H', 'H', 'H', 'H', 'H', 'H', 'H', 'H', 'C', 'H', 'H', 'H', 'H', 'H', 'H', 'H', 'H', 'H', 'H', 'H', 'H', 'H', 'H', 'H', 'H', 'H', 'H', 'H', 'H', 'H', 'H', 'H', 'H', 'H', 'B', 'B', 'H', 'H', 'H', 'H', 'H', 'C', 'C', 'C', 'H', 'H', 'H', 'H', 'H', 'H', 'H', 'H', 'H', 'C', 'H', 'H', 'H', 'H', 'H', 'H', 'H', 'C', 'C', 'C', 'C', 'C', 'C', 'C', 'C', 'C', 'C', 'C', 'B', 'C', 'C', 'C', 'C', 'C', 'C', 'B', 'B', 'C', 'C', 'H', 'C', 'C', 'C', 'C', 'C', 'C', 'C', 'C', 'C', 'C', 'C', 'C', 'C', 'C', 'C', 'C', 'C', 'C', 'H', 'H', 'H', 'H', 'H', 'H', 'C', 'B', 'C', 'C', 'C', 'C', 'C', 'C', 'C', 'H', 'H', 'C', 'H', 'H', 'H', 'H', 'H', 'H', 'H', 'H', 'H', 'H', 'H', 'H', 'H', 'C', 'B', 'B', 'B', 'B', 'H', 'H', 'H', 'H', 'B', 'B', 'B', 'C', 'C', 'C', 'C', 'C', 'C', 'C', 'C', 'C', 'C', 'C', 'C', 'C', 'C', 'C', 'C', 'C', 'C', 'C', 'C', 'C', 'H', 'H', 'H', 'H', 'H', 'H', 'H', 'H', 'H', 'H', 'H', 'H', 'H', 'H', 'H', 'H', 'H', 'H', 'H', 'H', 'H', 'H', 'H', 'H', 'H', 'H', 'H', 'H', 'H', 'H', 'H', 'H', 'H', 'H', 'B', 'H', 'H', 'H', 'H', 'H', 'H', 'H', 'C', 'B', 'B', 'H', 'H', 'H', 'H', 'H', 'H', 'H', 'H', 'H', 'H', 'H', 'H', 'H', 'H', 'H', 'H', 'H', 'H', 'H', 'H', 'H', 'H', 'H', 'H', 'H', 'C', 'H', 'H', 'H', 'H', 'H', 'H', 'H', 'C', 'C', 'C', 'C', 'C', 'C', 'C', 'C', 'C', 'C', 'C', 'C', 'C', 'C', 'C', 'C', 'C', 'C', 'B', 'H', 'B', 'H', 'H', 'H', 'H', 'H', 'H', 'H', 'H', 'B', 'H', 'B', 'B', 'B', 'B', 'B', 'B', 'B', 'B', 'B', 'B', 'B', 'B', 'B', 'B', 'B', 'B', 'H', 'C', 'H', 'C', 'C', 'C', 'C', 'C', 'C', 'C', 'C', 'C', 'C', 'C', 'C', 'C', 'H', 'B', 'B', 'B', 'B', 'B', 'B', 'B', 'B', 'B', 'B', 'B', 'B', 'H', 'H', 'H', 'C', 'C', 'C', 'C', 'C', 'C', 'C', 'C', 'C', 'C', 'C', 'C', 'H', 'H', 'B', 'B', 'B', 'B', 'B', 'B', 'B', 'H', 'H', 'C', 'C', 'C', 'B', 'B', 'B', 'C', 'C', 'C', 'C', 'C', 'C', 'C', 'H', 'H', 'H', 'H', 'H', 'H', 'H', 'C', 'C', 'C', 'C', 'H', 'H', 'H', 'C', 'C', 'C', 'C', 'C', 'H', 'H', 'C', 'C', 'C', 'H', 'H', 'H', 'H', 'H', 'H', 'H', 'H', 'H', 'C', 'H', 'C', 'C', 'C', 'C', 'C', 'C', 'C', 'C', 'C', 'C', 'C', 'C', 'C', 'C', 'C', 'C', 'C', 'H', 'H', 'H', 'H', 'H', 'H', 'H', 'H', 'H', 'H', 'H', 'H', 'H', 'H', 'H', 'H', 'H', 'H', 'H', 'H', 'H', 'H', 'H', 'C', 'C', 'C', 'H', 'H', 'H', 'H', 'H', 'H', 'H', 'H', 'H', 'H', 'C', 'C', 'C', 'C', 'H', 'H', 'H', 'C', 'C', 'C', 'C', 'C', 'C', 'C', 'C', 'C', 'C', 'C', 'B', 'B', 'B', 'B', 'B', 'C', 'B', 'C', 'C', 'H', 'B', 'B', 'B', 'H', 'H', 'H', 'H', 'H', 'H', 'H', 'H', 'H', 'H', 'H', 'H', 'H', 'H', 'H', 'H', 'H', 'H', 'H', 'H', 'H', 'H', 'H', 'H', 'H', 'H', 'H', 'H', 'H', 'H', 'H', 'H', 'H', 'H', 'H', 'H', 'H', 'H', 'H', 'H', 'H', 'H', 'H', 'H', 'H', 'H', 'H', 'H', 'C', 'C', 'C', 'C', 'C', 'C', 'C', 'C', 'C', 'C', 'C', 'C', 'C', 'C', 'C', 'C', 'C', 'C', 'H', 'H', 'H', 'H', 'H', 'H', 'H', 'H', 'H', 'H', 'H', 'H', 'H', 'H', 'H', 'H', 'H', 'C', 'C', 'C', 'H', 'H', 'H', 'C', 'C', 'C', 'C', 'C', 'C', 'C', 'C', 'H', 'H', 'H', 'H', 'H', 'H', 'C', 'C', 'C', 'C', 'C', 'C', 'C', 'C', 'B', 'C', 'C', 'C', 'B', 'B', 'H']\n"
     ]
    }
   ],
   "source": [
    "def get_pair_information(dataset,n):\n",
    "    \n",
    "    \n",
    "    self_information = get_self_information(dataset, n)\n",
    "    \n",
    "    dataset, protein_list = get_n_proteins(dataset,n)\n",
    "\n",
    "    \n",
    "    pair_information = list()\n",
    "    final_prediction = list()\n",
    "\n",
    "    for j in range(len(dataset)):\n",
    "        sumh=self_information[j][0]\n",
    "        sumb=self_information[j][1]\n",
    "        sumc=self_information[j][2]\n",
    "        \n",
    "        if j > 8 and j < len(dataset) - 8:\n",
    "          \n",
    "            for k in range(1,9):\n",
    "            \n",
    "                sumh+=self_information[j+k][0]\n",
    "                sumh+=self_information[j-k][0]\n",
    "                sumb+=self_information[j+k][1]\n",
    "                sumb+=self_information[j-k][1]\n",
    "                sumc+=self_information[j+k][2]\n",
    "                sumc+=self_information[j-k][2]\n",
    "    \n",
    "        pair_information.append([sumh, sumb, sumc])\n",
    "        if max(sumh, sumb, sumc) == sumh:\n",
    "            final_prediction.append('H')\n",
    "        elif max(sumh, sumb, sumc) == sumb:\n",
    "            final_prediction.append('B')\n",
    "        else:\n",
    "            final_prediction.append('C')\n",
    "        \n",
    "    return final_prediction\n",
    "\n",
    "\n",
    "pair_information_dssp = get_pair_information(dssp,30)\n",
    "#dssp_20, protiens = get_n_proteins(dssp, 20)\n",
    "#self_info = get_self_information(dssp, 20)\n",
    "\n",
    "\n",
    "print(pair_information_dssp)"
   ]
  },
  {
   "cell_type": "code",
   "execution_count": null,
   "metadata": {},
   "outputs": [],
   "source": []
  }
 ],
 "metadata": {
  "kernelspec": {
   "display_name": "Python 3",
   "language": "python",
   "name": "python3"
  },
  "language_info": {
   "codemirror_mode": {
    "name": "ipython",
    "version": 3
   },
   "file_extension": ".py",
   "mimetype": "text/x-python",
   "name": "python",
   "nbconvert_exporter": "python",
   "pygments_lexer": "ipython3",
   "version": "3.6.4"
  }
 },
 "nbformat": 4,
 "nbformat_minor": 2
}
